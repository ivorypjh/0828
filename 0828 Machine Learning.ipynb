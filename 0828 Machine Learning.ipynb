{
 "cells": [
  {
   "cell_type": "code",
   "execution_count": 1,
   "id": "69c1b6c2",
   "metadata": {},
   "outputs": [],
   "source": [
    "# 공통 코드\n",
    "\n",
    "# 파이썬\n",
    "# ≥3.5 필수\n",
    "import sys\n",
    "assert sys.version_info >= (3, 5)\n",
    "\n",
    "# 공통 모듈 임포트\n",
    "import numpy as np\n",
    "import pandas as pd\n",
    "import os\n",
    "\n",
    "# 깔끔한 그래프 출력을 위해 %matplotlib inline\n",
    "import matplotlib as mpl\n",
    "import matplotlib.pyplot as plt\n",
    "\n",
    "mpl.rc('axes', labelsize=14)\n",
    "mpl.rc('xtick', labelsize=12)\n",
    "mpl.rc('ytick', labelsize=12)\n",
    "\n",
    "\n",
    "# 그림을 저장할 위치\n",
    "PROJECT_ROOT_DIR = \".\"\n",
    "CHAPTER_ID = \"classification\"\n",
    "IMAGES_PATH = os.path.join(PROJECT_ROOT_DIR, \"images\", CHAPTER_ID)\n",
    "# 이미지를 저장할 디렉토리 생성\n",
    "os.makedirs(IMAGES_PATH, exist_ok=True)\n",
    "\n",
    "# 이미지 저장\n",
    "def save_fig(fig_id, tight_layout=True, fig_extension=\"png\", resolution=300):\n",
    "    path = os.path.join(IMAGES_PATH, fig_id + \".\" + fig_extension)\n",
    "    print(\"그림 저장:\", fig_id)\n",
    "    if tight_layout:\n",
    "        plt.tight_layout()\n",
    "    plt.savefig(path, format=fig_extension, dpi=resolution)\n",
    "\n",
    "from matplotlib import font_manager, rc\n",
    "import platform\n",
    "\n",
    "path = \"c:/Windows/Fonts/malgun.ttf\"\n",
    "if platform.system() == 'Darwin':\n",
    "    rc('font', family='AppleGothic')\n",
    "elif platform.system() == 'Windows':\n",
    "    font_name = font_manager.FontProperties(fname=path).get_name()\n",
    "    rc('font', family=font_name)\n",
    "    \n",
    "    \n",
    "mpl.rcParams['axes.unicode_minus'] = False\n",
    "# Jupyter Notebook의 출력을 소수점 이하 3자리로 제한\n",
    "%precision 3\n",
    "\n",
    "# 그래픽 출력을 좀 더 고급화하기 위한 라이브러리\n",
    "import seaborn as sns\n",
    "\n",
    "# 과학 기술 통계 라이브러리\n",
    "import scipy as sp\n",
    "from scipy import stats\n",
    "\n",
    "# 사이킷런 ≥0.20 필수\n",
    "# 0.20 이상 버전에서 데이터 변환을 위한 Transformer 클래스가 추가됨\n",
    "import sklearn\n",
    "assert sklearn.__version__ >= \"0.20\"\n",
    "\n",
    "# 노트북 실행 결과를 동일하게 유지하기 위해 시드 고정\n",
    "# 데이터를 분할할 때 동일한 분할을 만들어 냄\n",
    "np.random.seed(21)\n",
    "\n"
   ]
  },
  {
   "cell_type": "code",
   "execution_count": null,
   "id": "61a59e2e",
   "metadata": {},
   "outputs": [],
   "source": []
  },
  {
   "cell_type": "markdown",
   "id": "d9683717",
   "metadata": {},
   "source": [
    "## 분류 - Classification"
   ]
  },
  {
   "cell_type": "code",
   "execution_count": null,
   "id": "604147e5",
   "metadata": {},
   "outputs": [],
   "source": []
  },
  {
   "cell_type": "markdown",
   "id": "4d3b1e92",
   "metadata": {},
   "source": [
    "### MNIST 데이터 - 손으로 쓴 숫자 이미지"
   ]
  },
  {
   "cell_type": "code",
   "execution_count": 2,
   "id": "34b527b7",
   "metadata": {},
   "outputs": [
    {
     "name": "stderr",
     "output_type": "stream",
     "text": [
      "C:\\Users\\USER\\anaconda3\\lib\\site-packages\\sklearn\\datasets\\_openml.py:932: FutureWarning: The default value of `parser` will change from `'liac-arff'` to `'auto'` in 1.4. You can set `parser='auto'` to silence this warning. Therefore, an `ImportError` will be raised from 1.4 if the dataset is dense and pandas is not installed. Note that the pandas parser may return different data types. See the Notes Section in fetch_openml's API doc for details.\n",
      "  warn(\n"
     ]
    }
   ],
   "source": [
    "# 데이터 다운로드\n",
    "# dict 형태로 데이터를 다운로드\n",
    "from sklearn.datasets import fetch_openml\n",
    "mnist = fetch_openml('mnist_784', version = 1, as_frame = False)\n"
   ]
  },
  {
   "cell_type": "code",
   "execution_count": 3,
   "id": "b354e5f2",
   "metadata": {},
   "outputs": [
    {
     "name": "stdout",
     "output_type": "stream",
     "text": [
      "dict_keys(['data', 'target', 'frame', 'categories', 'feature_names', 'target_names', 'DESCR', 'details', 'url'])\n"
     ]
    }
   ],
   "source": [
    "# 데이터 확인\n",
    "print(mnist.keys())"
   ]
  },
  {
   "cell_type": "code",
   "execution_count": 3,
   "id": "d8112dc5",
   "metadata": {},
   "outputs": [
    {
     "name": "stdout",
     "output_type": "stream",
     "text": [
      "(70000, 784)\n",
      "(70000,)\n"
     ]
    }
   ],
   "source": [
    "# feature 와 target 가져와서 분류\n",
    "# feature 는 주로 X, target 은 주로 y 로 표현\n",
    "\n",
    "X, y = mnist['data'], mnist['target']\n",
    "# 둘 다 크기가 7만으로 동일\n",
    "# 데이터는 784 픽셀 크기인 흑백 이미지로 크기는 28x28\n",
    "# 각 픽셀은 0 ~ 255 사이의 값\n",
    "print(X.shape) # (70000, 784)\n",
    "print(y.shape) # (70000,)"
   ]
  },
  {
   "cell_type": "code",
   "execution_count": 4,
   "id": "f2d62f37",
   "metadata": {},
   "outputs": [
    {
     "data": {
      "image/png": "[encoded data removed]",
      "text/plain": [
       "<Figure size 640x480 with 1 Axes>"
      ]
     },
     "metadata": {},
     "output_type": "display_data"
    }
   ],
   "source": [
    "# 하나의 이미지 출력해서 확인\n",
    "\n",
    "# 이미지 하나 가져오기 - 784 픽셀\n",
    "one_digit_image = X[60000]\n",
    "# 784x1 을 2차원인 28x28 로 변환\n",
    "one_digit_image = one_digit_image.reshape(28, 28)\n",
    "\n",
    "# 이미지 출력\n",
    "plt.imshow(one_digit_image, cmap = mpl.cm.binary)\n",
    "plt.axis('off')\n",
    "plt.show()"
   ]
  },
  {
   "cell_type": "code",
   "execution_count": 14,
   "id": "99538918",
   "metadata": {},
   "outputs": [
    {
     "name": "stdout",
     "output_type": "stream",
     "text": [
      "7\n"
     ]
    }
   ],
   "source": [
    "# 출력해서 확인한 이미지의 레이블 확인\n",
    "print(y[60000]) # 7"
   ]
  },
  {
   "cell_type": "code",
   "execution_count": 22,
   "id": "25a753d0",
   "metadata": {},
   "outputs": [],
   "source": [
    "# 여러 개의 이미지를 출력하기 위한 함수\n",
    "# 첫번째는 이미지들, 두번째는 하나의 행에 출력할 이미지의 수\n",
    "# 세번째 매개변수는 옵션으로 dict 를 설정 - ** 사용\n",
    "# 여러 옵션을 설정하는 경우 각각을 나열하는 것은 가독성을 떨어뜨림\n",
    "# 이런 경우에 매개변수를 하나로 묶어야 하는데 dict 나 class 를 사용\n",
    "# 생략이 가능한 옵션을 많이 가지고 있으면 dict 가 낫고 그렇지 않으면 class\n",
    "\n",
    "def show_images(instances, images_per_row = 10, **options):\n",
    "    # 이미지의 크기를 변수로 생성\n",
    "    size = 28\n",
    "    images_per_rows = min(len(instances), images_per_row)\n",
    "    \n",
    "    # 이미지의 크기 변환\n",
    "    images = [image.reshape(size, size) for image in instances]\n",
    "    \n",
    "    # 행의 갯수 출력\n",
    "    n_rows = (len(instances) -1) // images_per_row + 1\n",
    "    \n",
    "    # 이미지를 저장할 리스트\n",
    "    image_list = []\n",
    "    n_empty = n_rows * images_per_row - len(instances)\n",
    "    \n",
    "    images.append(np.zeros((size * size * n_empty)))\n",
    "    \n",
    "    # 행 단위로 순회하면서 실제 이미지 추가\n",
    "    for row in range(n_rows):\n",
    "        real_images = images[row * images_per_row : (row+1) * images_per_row]\n",
    "        image_list.append(np.concatenate(real_images, axis = 1))\n",
    "        \n",
    "    image = np.concatenate(image_list, axis = 0)\n",
    "    plt.imshow(image, cmap = mpl.cm.binary, **options)\n",
    "    plt.axis('off')\n",
    "    plt.show()\n",
    "    "
   ]
  },
  {
   "cell_type": "code",
   "execution_count": 23,
   "id": "bbed1eec",
   "metadata": {},
   "outputs": [
    {
     "data": {
      "image/png": "[encoded data removed]",
      "text/plain": [
       "<Figure size 800x800 with 1 Axes>"
      ]
     },
     "metadata": {},
     "output_type": "display_data"
    }
   ],
   "source": [
    "# 여러 개의 이미지 출력하는 함수 확인\n",
    "plt.figure(figsize = (8, 8))\n",
    "ex_images = X[:100]\n",
    "show_images(ex_images, images_per_row = 5)\n"
   ]
  },
  {
   "cell_type": "code",
   "execution_count": 5,
   "id": "34119451",
   "metadata": {},
   "outputs": [
    {
     "name": "stdout",
     "output_type": "stream",
     "text": [
      "<class 'numpy.ndarray'>\n",
      "<class 'str'>\n",
      "5\n",
      "<class 'numpy.uint8'>\n"
     ]
    }
   ],
   "source": [
    "# target 의 자료형 확인\n",
    "print(type(y)) # numpy.ndarray\n",
    "print(type(y[0])) # str\n",
    "print(y[0]) # str\n",
    "# 범주형 데이터의 자료형은 정수형을 권장함\n",
    "\n",
    "# target 의 자료형을 변경\n",
    "y = y.astype(np.uint8)\n",
    "print(type(y[0])) # numpy.uint8"
   ]
  },
  {
   "cell_type": "code",
   "execution_count": null,
   "id": "301e93ea",
   "metadata": {},
   "outputs": [],
   "source": []
  },
  {
   "cell_type": "markdown",
   "id": "233419bc",
   "metadata": {},
   "source": [
    "### 이진 분류를 위한 데이터 생성"
   ]
  },
  {
   "cell_type": "code",
   "execution_count": 6,
   "id": "ce5ffa3f",
   "metadata": {},
   "outputs": [
    {
     "name": "stdout",
     "output_type": "stream",
     "text": [
      "8\n",
      "True\n"
     ]
    }
   ],
   "source": [
    "# 훈련 데이터와 테스트 데이터 분리\n",
    "# 데이터 셋이 만들어질 때 순서가 랜덤하게 변해있으므로\n",
    "# 이전의 과정처럼 랜덤하게 데이터를 가져올 필요가 없음\n",
    "X_train, X_test, y_train, y_test = X[:60000], X[60000:], y[:60000], y[60000:]\n",
    "\n",
    "# 이진 분류는 True 와 False 로 분류함\n",
    "# 이진 분류의 경우 target 이 bool 타입\n",
    "# 8인지 아닌지로 분류하기 위한 데이터 생성\n",
    "y_train_8 = (y_train == 8)\n",
    "y_test_8 = (y_test == 8)\n",
    "print(y_train[17]) # 8\n",
    "print(y_train_8[17]) # True\n"
   ]
  },
  {
   "cell_type": "code",
   "execution_count": null,
   "id": "02da03cc",
   "metadata": {},
   "outputs": [],
   "source": []
  },
  {
   "cell_type": "markdown",
   "id": "407aa905",
   "metadata": {},
   "source": [
    "## SGDClassifier 클래스를 이용한 분류"
   ]
  },
  {
   "cell_type": "markdown",
   "id": "6b40f720",
   "metadata": {},
   "source": [
    "### 훈련 및 데이터 예측"
   ]
  },
  {
   "cell_type": "code",
   "execution_count": 7,
   "id": "aacdcf9d",
   "metadata": {},
   "outputs": [
    {
     "data": {
      "text/plain": [
       "array([False])"
      ]
     },
     "execution_count": 7,
     "metadata": {},
     "output_type": "execute_result"
    }
   ],
   "source": [
    "from sklearn.linear_model import SGDClassifier\n",
    "\n",
    "one_digit_image = X[60000]\n",
    "\n",
    "# 훈련에 사용할 모델을 생성 - 하이퍼 파라미터 설정\n",
    "# max_iter 는 최대 반복 횟수, tol 은 정밀도\n",
    "sgd = SGDClassifier(max_iter = 1000, tol = 1e-3, random_state = 21)\n",
    "\n",
    "# 훈련 - 훈련 단계에서 데이터를 대입\n",
    "sgd.fit(X_train, y_train_8)\n",
    "\n",
    "# 예측 - feature 는 2차원 이상의 배열이어야 함\n",
    "# 7에 대한 이미지이므로 결과는 False\n",
    "sgd.predict([one_digit_image]) # array([False])"
   ]
  },
  {
   "cell_type": "markdown",
   "id": "cb2f3a31",
   "metadata": {},
   "source": [
    "### K 겹 교차 검증을 통한 정확도 확인"
   ]
  },
  {
   "cell_type": "code",
   "execution_count": 18,
   "id": "3fd9e4e5",
   "metadata": {},
   "outputs": [
    {
     "data": {
      "text/plain": [
       "array([0.918, 0.908, 0.935, 0.929, 0.892])"
      ]
     },
     "execution_count": 18,
     "metadata": {},
     "output_type": "execute_result"
    }
   ],
   "source": [
    "from sklearn.model_selection import cross_val_score\n",
    "\n",
    "# cv 는 교차 검증 횟수\n",
    "# scoring 은 평가 지표로 정확도\n",
    "cross_val_score(sgd, X_train, y_train_8, cv = 5, scoring = 'accuracy')"
   ]
  },
  {
   "cell_type": "code",
   "execution_count": 41,
   "id": "59813e1b",
   "metadata": {},
   "outputs": [
    {
     "data": {
      "text/plain": [
       "array([0.101, 0.098, 0.096, 0.1  , 0.1  ])"
      ]
     },
     "execution_count": 41,
     "metadata": {},
     "output_type": "execute_result"
    }
   ],
   "source": [
    "# 새로운 분류기를 가지고 훈련을 한 뒤 교차 검증\n",
    "from sklearn.base import BaseEstimator\n",
    "\n",
    "class Never8Classifier(BaseEstimator):\n",
    "    def fit(selt, X, y=None):\n",
    "        pass\n",
    "    def predict(self, X):\n",
    "        return np.zeros((len(X), 1), dtype = bool)\n",
    "    \n",
    "never_8_clf = Never8Classifier()\n",
    "cross_val_score(never_8_clf, X_train, y_train, cv = 5, scoring = 'accuracy')\n",
    "# array([0.101, 0.098, 0.096, 0.1  , 0.1  ])\n",
    "\n",
    "# SGC 방식과 비교했을 때 SGD 가 훨씬 높은 정확도를 보임"
   ]
  },
  {
   "cell_type": "code",
   "execution_count": null,
   "id": "091da615",
   "metadata": {},
   "outputs": [],
   "source": []
  },
  {
   "cell_type": "markdown",
   "id": "de9b7a19",
   "metadata": {},
   "source": [
    "## 분류의 평가 지표"
   ]
  },
  {
   "cell_type": "markdown",
   "id": "86a3a62f",
   "metadata": {},
   "source": [
    "### 오차 행렬 - Confusion Matrix"
   ]
  },
  {
   "cell_type": "code",
   "execution_count": 10,
   "id": "6f987743",
   "metadata": {},
   "outputs": [
    {
     "data": {
      "text/plain": [
       "array([[50874,  3275],\n",
       "       [ 1737,  4114]], dtype=int64)"
      ]
     },
     "execution_count": 10,
     "metadata": {},
     "output_type": "execute_result"
    }
   ],
   "source": [
    "from sklearn.model_selection import cross_val_predict\n",
    "from sklearn.metrics import confusion_matrix\n",
    "\n",
    "# SGD 모델을 가지고 훈련을 한 후 값을 예측\n",
    "y_train_predict = cross_val_predict(sgd, X_train, y_train_8, cv = 5)\n",
    "# 오차 행렬을 출력\n",
    "confusion_matrix(y_train_8, y_train_predict)\n",
    "\n",
    "# 훈련을 하고 값을 예측할 때 y_train_8 과 같은 True, False 가 아니라\n",
    "# y_train 과 같은 데이터를 사용하면 0 ~ 9 에 대해 각각을 나타내는\n",
    "# 10x10 크기의 표를 결과로 나타낼 수 있음"
   ]
  },
  {
   "cell_type": "code",
   "execution_count": 24,
   "id": "c03d2c80",
   "metadata": {},
   "outputs": [
    {
     "data": {
      "text/plain": [
       "array([[51503,  2646],\n",
       "       [ 2648,  3203]], dtype=int64)"
      ]
     },
     "execution_count": 24,
     "metadata": {},
     "output_type": "execute_result"
    }
   ],
   "source": [
    "y_train_predict = cross_val_predict(sgd, X_train, y_train_8, cv = 3)\n",
    "# 오차 행렬을 출력\n",
    "confusion_matrix(y_train_8, y_train_predict)"
   ]
  },
  {
   "cell_type": "code",
   "execution_count": 11,
   "id": "4005df33",
   "metadata": {},
   "outputs": [
    {
     "name": "stdout",
     "output_type": "stream",
     "text": [
      "정확도 ;  0.9164666666666667\n",
      "정밀도 ;  0.5567735823521451\n",
      "재현율 ;  0.703127670483678\n",
      "F1 score ;  0.6214501510574019\n"
     ]
    }
   ],
   "source": [
    "# 평가 지표를 계산하는 다양한 방법\n",
    "\n",
    "# 정확도, 정밀도, 재현율, F1 score\n",
    "from sklearn.metrics import accuracy_score ,precision_score ,recall_score ,f1_score\n",
    "\n",
    "print('정확도 ; ', accuracy_score(y_train_8, y_train_predict))\n",
    "print('정밀도 ; ', precision_score(y_train_8, y_train_predict))\n",
    "print('재현율 ; ', recall_score(y_train_8, y_train_predict))\n",
    "print('F1 score ; ', f1_score(y_train_8, y_train_predict))\n"
   ]
  },
  {
   "cell_type": "code",
   "execution_count": 12,
   "id": "7c587b2d",
   "metadata": {},
   "outputs": [
    {
     "name": "stdout",
     "output_type": "stream",
     "text": [
      "[-5215.269]\n",
      "[1152.549]\n",
      "[-30574.551 -28435.251 -34859.664 ...  -6429.071 -24397.557   3539.487]\n"
     ]
    }
   ],
   "source": [
    "# 결정 임계값 나타내기\n",
    "\n",
    "# 자신의 점수를 출력\n",
    "y_score1 = sgd.decision_function([one_digit_image]) # 7\n",
    "y_score2 = sgd.decision_function([X[17]]) # 8\n",
    "# default 임계값은 0이므로\n",
    "# 0보다 작은 점수는 False, 높은 점수는 True 로 판별\n",
    "print(y_score1) # -5215\n",
    "print(y_score2) # 1152\n",
    "\n",
    "# 전체 훈련 데이터의 점수를 출력\n",
    "y_scores = cross_val_predict(sgd, X_train, y_train_8,\n",
    "                            cv = 3, method = 'decision_function')\n",
    "print(y_scores)"
   ]
  },
  {
   "cell_type": "code",
   "execution_count": 74,
   "id": "d607c1f2",
   "metadata": {},
   "outputs": [
    {
     "data": {
      "image/png": "[encoded data removed]",
      "text/plain": [
       "<Figure size 800x600 with 1 Axes>"
      ]
     },
     "metadata": {},
     "output_type": "display_data"
    }
   ],
   "source": [
    "# 정밀도와 재현율의 tradeoff\n",
    "# 정밀도와 재현율에 대한 그래프 출력\n",
    "\n",
    "from sklearn.metrics import precision_recall_curve\n",
    "\n",
    "# 정밀도, 재현율, 임계값 에 대한 데이터를 추출\n",
    "precisions, recalls, thresholds = precision_recall_curve(y_train_8, y_scores)\n",
    "\n",
    "# 정밀도와 재현율 그래프를 그리는 함수\n",
    "def plot_precision_recall(precisions, recalls, thresholds):\n",
    "    # 선 그리기\n",
    "    plt.plot(thresholds, precisions[:-1], 'b--', \n",
    "            label = 'Precision score', linewidth = 2)\n",
    "    plt.plot(thresholds, recalls[:-1], 'r--', \n",
    "            label = 'Recall score', linewidth = 2)\n",
    "    # 범례 표시\n",
    "    plt.legend(loc = 'center left', fontsize = 12)\n",
    "    \n",
    "    plt.xlabel('Thresholds', fontsize = 12)\n",
    "    plt.grid(True)\n",
    "    plt.axis([-40000, 20000, 0, 1])\n",
    "    \n",
    "plt.figure(figsize = (8, 6))\n",
    "plot_precision_recall(precisions, recalls, thresholds)\n",
    "    \n",
    "\n",
    "# 정밀도가 0.9가 되는 위치의 재현율을 조회\n",
    "recall_90_precision = recalls[np.argmax(precisions >= 0.9)]\n",
    "threshold_90_precision = thresholds[np.argmax(precisions >= 0.9)]\n",
    "\n",
    "# 위치를 표시\n",
    "plt.plot([threshold_90_precision, threshold_90_precision], [0, 0.9], 'g')\n",
    "plt.plot([-40000, threshold_90_precision], [0.9, 0.9], 'r')\n",
    "plt.plot([-40000, threshold_90_precision], \n",
    "         [recall_90_precision, recall_90_precision], 'r')\n",
    "plt.plot([threshold_90_precision], [0.9], 'ro')\n",
    "plt.plot([threshold_90_precision], [recall_90_precision], 'ro')\n",
    "\n",
    "\n",
    "plt.show()"
   ]
  },
  {
   "cell_type": "code",
   "execution_count": 75,
   "id": "7080c2d8",
   "metadata": {},
   "outputs": [
    {
     "name": "stdout",
     "output_type": "stream",
     "text": [
      "0.9003344481605351\n",
      "0.23004614595795592\n"
     ]
    }
   ],
   "source": [
    "# 정밀도가 0.9가 되는 지점을 이용해서 예측\n",
    "# 정밀도가 0.9가 되는 위치의 threshold 를 찾고 그것을 기준으로 사용\n",
    "\n",
    "y_train_predict_90 = (y_scores >= threshold_90_precision)\n",
    "\n",
    "# 정밀도-  0.90\n",
    "print(precision_score(y_train_8, y_train_predict_90)) \n",
    "# 재현율 - 0.23\n",
    "print(recall_score(y_train_8, y_train_predict_90)) "
   ]
  },
  {
   "cell_type": "code",
   "execution_count": null,
   "id": "1a421dcb",
   "metadata": {},
   "outputs": [],
   "source": []
  },
  {
   "cell_type": "markdown",
   "id": "7897b3ad",
   "metadata": {},
   "source": [
    "### ROC 곡선"
   ]
  },
  {
   "cell_type": "code",
   "execution_count": 13,
   "id": "777e5b63",
   "metadata": {},
   "outputs": [
    {
     "data": {
      "image/png": "[encoded data removed]",
      "text/plain": [
       "<Figure size 800x600 with 1 Axes>"
      ]
     },
     "metadata": {},
     "output_type": "display_data"
    }
   ],
   "source": [
    "from sklearn.metrics import roc_curve\n",
    "\n",
    "# 그래프에 사용할 값 계산\n",
    "fpr, tpr, thresholds = roc_curve(y_train_8, y_scores)\n",
    "\n",
    "# 그래프 출력 함수\n",
    "def plot_roc_curve(fpr, tpr, label = None):\n",
    "    # 선 그리기\n",
    "    plt.plot(fpr, tpr, 'b', linewidth = 2, label = label) # ROC 곡선\n",
    "    plt.plot([0, 1], [0, 1], 'r--') # 대각선 - 완전 랜덤인 경우\n",
    "    # 좌표 볌위 설정\n",
    "    plt.axis([0, 1, 0, 1])\n",
    "    # 축 이름 표시\n",
    "    plt.xlabel('False Positive Rate (Fall-Out)', fontsize = 16)\n",
    "    plt.ylabel('Ture Positive Rate (Recall)', fontsize = 16)\n",
    "    plt.grid(True)\n",
    "\n",
    "plt.figure(figsize = (8, 6))\n",
    "plot_roc_curve(fpr, tpr, thresholds)\n",
    "plt.show()\n",
    "\n",
    "# 그래프의 점선이 완전 랜덤 분류기\n",
    "# 점선으로부터 멀어지면 멀어질수록 좋은 분류기\n",
    "# 가장 좋은 분류기는 그래프(분류기) 하단의 면적이 1인 그래프\n",
    "# 변적의 값은 roc_auc_score 라는 함수로 계산이 가능함"
   ]
  },
  {
   "cell_type": "code",
   "execution_count": 83,
   "id": "c60b2c21",
   "metadata": {},
   "outputs": [
    {
     "name": "stdout",
     "output_type": "stream",
     "text": [
      "0.8542515125165044\n"
     ]
    }
   ],
   "source": [
    "# ROC 곡선의 면적 확인하기\n",
    "# 면적이 1에 가까울수록 좋은 분류기\n",
    "\n",
    "from sklearn.metrics import roc_auc_score\n",
    "\n",
    "print(roc_auc_score(y_train_8, y_scores)) # 0.8542"
   ]
  },
  {
   "cell_type": "code",
   "execution_count": null,
   "id": "45fdd5c7",
   "metadata": {},
   "outputs": [],
   "source": []
  },
  {
   "cell_type": "markdown",
   "id": "40636f61",
   "metadata": {},
   "source": [
    "## 다중 분류"
   ]
  },
  {
   "cell_type": "markdown",
   "id": "7d896cb0",
   "metadata": {},
   "source": [
    "### 이진 분류기를 이용한 다중 분류"
   ]
  },
  {
   "cell_type": "code",
   "execution_count": 14,
   "id": "b346986d",
   "metadata": {},
   "outputs": [
    {
     "name": "stdout",
     "output_type": "stream",
     "text": [
      "[7]\n",
      "[[ 3.937  8.193  4.986  1.872  7.111  0.86   2.885  9.197 -0.184  6.016]]\n"
     ]
    }
   ],
   "source": [
    "from sklearn.svm import SVC\n",
    "\n",
    "# 이진 분류기 SVC\n",
    "svm_clf = SVC(gamma = 'auto', random_state = 21)\n",
    "# 이진 분류기를 이용해서 0 ~ 9 까지 10가지를 분류\n",
    "# 학습\n",
    "svm_clf.fit(X_train[:1000], y_train[:1000])\n",
    "\n",
    "print(svm_clf.predict([one_digit_image])) # 7\n",
    "\n",
    "# 결정 점수를 확인 - 10개 점수 중 7에 대한 결정 점수가 가장 높음\n",
    "digit_scores = svm_clf.decision_function([one_digit_image])\n",
    "print(digit_scores)\n"
   ]
  },
  {
   "cell_type": "code",
   "execution_count": null,
   "id": "da45a3cf",
   "metadata": {},
   "outputs": [],
   "source": []
  },
  {
   "cell_type": "markdown",
   "id": "9a25e980",
   "metadata": {},
   "source": [
    "### SGD 분류기를 이용한 다중 분류"
   ]
  },
  {
   "cell_type": "code",
   "execution_count": 25,
   "id": "6c504d8a",
   "metadata": {},
   "outputs": [
    {
     "name": "stdout",
     "output_type": "stream",
     "text": [
      "[7]\n",
      "[[-24068.136 -47985.984  -9597.819  -4298.995 -19424.024  -5481.485\n",
      "  -31244.931  11684.673  -7032.156  -5727.669]]\n"
     ]
    }
   ],
   "source": [
    "sgd.fit(X_train, y_train)\n",
    "\n",
    "# 예측\n",
    "print(sgd.predict([one_digit_image])) # 7\n",
    "\n",
    "# 결정 점수 확인 - 7 의 점수가 가장 높음\n",
    "print(sgd.decision_function([one_digit_image]))\n"
   ]
  },
  {
   "cell_type": "code",
   "execution_count": 20,
   "id": "6f40125b",
   "metadata": {},
   "outputs": [
    {
     "data": {
      "text/plain": [
       "array([0.885, 0.848, 0.874])"
      ]
     },
     "execution_count": 20,
     "metadata": {},
     "output_type": "execute_result"
    }
   ],
   "source": [
    "# 교차 검증을 이용한 정확도 확인\n",
    "cross_val_score(sgd, X_train, y_train, cv = 3, scoring = 'accuracy')"
   ]
  },
  {
   "cell_type": "code",
   "execution_count": 26,
   "id": "b27f377c",
   "metadata": {},
   "outputs": [
    {
     "data": {
      "text/plain": [
       "array([0.901, 0.898, 0.902])"
      ]
     },
     "execution_count": 26,
     "metadata": {},
     "output_type": "execute_result"
    }
   ],
   "source": [
    "# 특성이 여러 개이고 이 특성의 값의 분포가 일정하지 않은 경우\n",
    "# scaling 이나 standaldization 을 고려해봐야 함\n",
    "\n",
    "# 28x28 이미지라서 특성이 매우 많음\n",
    "from sklearn.preprocessing import StandardScaler\n",
    "\n",
    "# Scaling 적용\n",
    "scaler = StandardScaler() # 객체 생성\n",
    "X_train_scaled = scaler.fit_transform(X_train.astype(np.float64))\n",
    "# 정확도 확인\n",
    "cross_val_score(sgd, X_train_scaled, y_train, cv = 3, scoring = 'accuracy')\n"
   ]
  },
  {
   "cell_type": "code",
   "execution_count": 30,
   "id": "24e56a40",
   "metadata": {},
   "outputs": [
    {
     "name": "stdout",
     "output_type": "stream",
     "text": [
      "[5 0 4 ... 5 6 8]\n",
      "[0.901 0.898 0.902]\n",
      "(60000,)\n",
      "(3,)\n"
     ]
    }
   ],
   "source": [
    "print(y_train)\n",
    "print(y_train_predict)\n",
    "print(y_train.shape)\n",
    "print(y_train_predict.shape)"
   ]
  },
  {
   "cell_type": "code",
   "execution_count": 32,
   "id": "c53e2c27",
   "metadata": {},
   "outputs": [
    {
     "name": "stdout",
     "output_type": "stream",
     "text": [
      "[[5593    0   23    8    9   41   35    6  207    1]\n",
      " [   0 6411   38   25    4   42    4    8  198   12]\n",
      " [  28   28 5264   93   72   27   65   40  331   10]\n",
      " [  23   20  123 5254    2  203   27   42  367   70]\n",
      " [  10   15   49   10 5226   11   37   25  293  166]\n",
      " [  29   17   32  173   54 4444   78   16  515   63]\n",
      " [  30   17   44    2   44   95 5562    3  120    1]\n",
      " [  21   11   53   30   50   10    3 5697  168  222]\n",
      " [  18   65   48   89    4  126   25   10 5419   47]\n",
      " [  25   20   30   68  117   32    1  177  325 5154]]\n"
     ]
    }
   ],
   "source": [
    "# 오차 행렬 출력\n",
    "\n",
    "# scoring 매개변수가 필요 없음\n",
    "y_train_predict = cross_val_predict(sgd, X_train_scaled, \n",
    "                                  y_train, cv = 3)\n",
    "confusion_mat = confusion_matrix(y_train, y_train_predict)\n",
    "print(confusion_mat)"
   ]
  },
  {
   "cell_type": "code",
   "execution_count": 33,
   "id": "93b49daf",
   "metadata": {},
   "outputs": [],
   "source": [
    "#help(confusion_matrix)"
   ]
  },
  {
   "cell_type": "code",
   "execution_count": 35,
   "id": "b1897624",
   "metadata": {},
   "outputs": [
    {
     "data": {
      "image/png": "[encoded data removed]",
      "text/plain": [
       "<Figure size 480x480 with 1 Axes>"
      ]
     },
     "metadata": {},
     "output_type": "display_data"
    }
   ],
   "source": [
    "# 오차 행렬 시각화\n",
    "\n",
    "plt.matshow(confusion_mat, cmap = plt.cm.gray)\n",
    "plt.show()\n",
    "\n",
    "# 오차 행렬의 결과를 확인해서 오류가 많이 발생하는 \n",
    "# 특별한 상황이 있다면 이에 대한 해결책을 제시할 수 있음\n",
    "# 오류가 많이 발생하는 클래스가 있다면 그 클래스의 데이터를 조금 더 넣어서\n",
    "# 모델을 만들거나 결과가 나온 데이터를 가지고 다시 한 번 학습하는\n",
    "# 모델을 만든다던가 하는 방식으로 전처리 작업을 수행"
   ]
  },
  {
   "cell_type": "code",
   "execution_count": 37,
   "id": "ca6aa18e",
   "metadata": {},
   "outputs": [
    {
     "data": {
      "image/png": "[encoded data removed]",
      "text/plain": [
       "<Figure size 480x480 with 1 Axes>"
      ]
     },
     "metadata": {},
     "output_type": "display_data"
    }
   ],
   "source": [
    "# 오차 행렬을 각 행의 합계로 나누고 대각선을 0으로 채워서\n",
    "# 오류를 좀 더 눈에 듸게 출력하기\n",
    "# 분류 모델에서는 이 행렬을 반드시 출력해보는 것이 좋음\n",
    "# 잘못 분류됨 모델을 확인해볼 수 있음\n",
    "\n",
    "# 클래스 별로 합계를 구함\n",
    "row_sums = confusion_mat.sum(axis = 1, keepdims = True)\n",
    "# 클래스 별 합계로 나누기\n",
    "norm_confusion_mat = confusion_mat / row_sums\n",
    "\n",
    "# 주 대각선 방향을 0 으로 채워 넣음\n",
    "np.fill_diagonal(norm_confusion_mat, 0)\n",
    "plt.matshow(norm_confusion_mat, cmap = plt.cm.gray)\n",
    "plt.show()"
   ]
  },
  {
   "cell_type": "code",
   "execution_count": null,
   "id": "d20e6327",
   "metadata": {},
   "outputs": [],
   "source": []
  },
  {
   "cell_type": "markdown",
   "id": "4b53d3b4",
   "metadata": {},
   "source": [
    "## 다중 레이블 분류"
   ]
  },
  {
   "cell_type": "code",
   "execution_count": 29,
   "id": "c1c1d65d",
   "metadata": {},
   "outputs": [
    {
     "data": {
      "text/plain": [
       "array([[ True,  True]])"
      ]
     },
     "execution_count": 29,
     "metadata": {},
     "output_type": "execute_result"
    }
   ],
   "source": [
    "# 출력해야 할 레이블이 여러 개인 경우\n",
    "# 이미지를 가지고 7보다 큰지 그리고 홀수인지 여부를 같이 리턴해야 하는 경우\n",
    "\n",
    "# KNN을 이용한 다중 레이블 분류\n",
    "from sklearn.neighbors import KNeighborsClassifier\n",
    "\n",
    "y_train_large = (y_train >= 7)\n",
    "y_train_odd = (y_train % 2 == 1)\n",
    "\n",
    "# 2개를 가지고 MultiLabel 생성\n",
    "# 데이터를 배열로 제공\n",
    "y_multilabel = np.c_[y_train_large, y_train_odd]\n",
    "\n",
    "knn_clf = KNeighborsClassifier()\n",
    "knn_clf.fit(X_train, y_multilabel)\n",
    "knn_clf.predict([one_digit_image]) # array([[ True,  True]])\n",
    "# 결과로 2개의 데이터를 갖는 배열을 리턴"
   ]
  },
  {
   "cell_type": "code",
   "execution_count": null,
   "id": "76bb3673",
   "metadata": {},
   "outputs": [],
   "source": []
  },
  {
   "cell_type": "markdown",
   "id": "17356ff1",
   "metadata": {},
   "source": [
    "## 분류 알고리즘"
   ]
  },
  {
   "cell_type": "markdown",
   "id": "0026e5e5",
   "metadata": {},
   "source": [
    "### LDA(선형 판별 분석)"
   ]
  },
  {
   "cell_type": "code",
   "execution_count": 40,
   "id": "ea2b7b9f",
   "metadata": {},
   "outputs": [
    {
     "name": "stdout",
     "output_type": "stream",
     "text": [
      "   Unnamed: 0   outcome            purpose_    dti  borrower_score  \\\n",
      "0       32109  paid off  debt_consolidation  21.23            0.40   \n",
      "1       16982   default         credit_card  15.49            0.40   \n",
      "2       25335  paid off  debt_consolidation  27.30            0.70   \n",
      "3       34580  paid off      major_purchase  21.11            0.40   \n",
      "4       14424   default  debt_consolidation  16.46            0.45   \n",
      "\n",
      "   payment_inc_ratio  \n",
      "0            5.11135  \n",
      "1            5.43165  \n",
      "2            9.23003  \n",
      "3            2.33482  \n",
      "4           12.10320  \n",
      "<class 'pandas.core.frame.DataFrame'>\n",
      "RangeIndex: 3000 entries, 0 to 2999\n",
      "Data columns (total 6 columns):\n",
      " #   Column             Non-Null Count  Dtype  \n",
      "---  ------             --------------  -----  \n",
      " 0   Unnamed: 0         3000 non-null   int64  \n",
      " 1   outcome            3000 non-null   object \n",
      " 2   purpose_           3000 non-null   object \n",
      " 3   dti                3000 non-null   float64\n",
      " 4   borrower_score     3000 non-null   float64\n",
      " 5   payment_inc_ratio  3000 non-null   float64\n",
      "dtypes: float64(3), int64(1), object(2)\n",
      "memory usage: 140.8+ KB\n"
     ]
    }
   ],
   "source": [
    "# borrowscore 와 payment_inc_ration 에 따른 outcome 선형 판별 분석\n",
    "\n",
    "# 데이터 가져오기\n",
    "loan3000 = pd.read_csv('./data/loan3000.csv')\n",
    "print(loan3000.head())\n",
    "loan3000.info()"
   ]
  },
  {
   "cell_type": "code",
   "execution_count": 45,
   "id": "fe9c85ad",
   "metadata": {},
   "outputs": [
    {
     "name": "stdout",
     "output_type": "stream",
     "text": [
      "      borrower_score  payment_inc_ratio\n",
      "0               0.40            5.11135\n",
      "1               0.40            5.43165\n",
      "2               0.70            9.23003\n",
      "3               0.40            2.33482\n",
      "4               0.45           12.10320\n",
      "...              ...                ...\n",
      "2995            0.50           18.36620\n",
      "2996            0.60            1.80421\n",
      "2997            0.20           15.42180\n",
      "2998            0.45            8.92335\n",
      "2999            0.40           12.88190\n",
      "\n",
      "[3000 rows x 2 columns] 0       paid off\n",
      "1        default\n",
      "2       paid off\n",
      "3       paid off\n",
      "4        default\n",
      "          ...   \n",
      "2995    paid off\n",
      "2996    paid off\n",
      "2997     default\n",
      "2998     default\n",
      "2999     default\n",
      "Name: outcome, Length: 3000, dtype: category\n",
      "Categories (2, object): ['default', 'paid off']\n"
     ]
    }
   ],
   "source": [
    "# target 을 범주형으로 변환\n",
    "loan3000.outcome = loan3000.outcome.astype('category')\n",
    "\n",
    "# 숫자 컬럼들의 상관 계수 확인\n",
    "#print(loan3000.corr())\n",
    "\n",
    "# 독립 변수와 종속 변수를 설정\n",
    "predictors = ['borrower_score', 'payment_inc_ratio']\n",
    "outcome = 'outcome'\n",
    "\n",
    "# 독립 변수 - feature\n",
    "X = loan3000[predictors]\n",
    "# 종속 변수 - target\n",
    "y = loan3000[outcome]\n",
    "\n",
    "print(X, y)"
   ]
  },
  {
   "cell_type": "code",
   "execution_count": 46,
   "id": "0e3b3177",
   "metadata": {},
   "outputs": [
    {
     "name": "stdout",
     "output_type": "stream",
     "text": [
      "                          0\n",
      "borrower_score     7.175839\n",
      "payment_inc_ratio -0.099676\n"
     ]
    }
   ],
   "source": [
    "# LDA 적용\n",
    "\n",
    "from sklearn.discriminant_analysis import LinearDiscriminantAnalysis\n",
    "\n",
    "# 객체 생성 및 적용\n",
    "loan_lda = LinearDiscriminantAnalysis()\n",
    "loan_lda.fit(X, y)\n",
    "\n",
    "# 최적의 값을 확인 - 'paid off' 와 'default' 의 경계 값\n",
    "print(pd.DataFrame(loan_lda.scalings_, index = X.columns))"
   ]
  },
  {
   "cell_type": "code",
   "execution_count": 50,
   "id": "17a8a5f6",
   "metadata": {},
   "outputs": [
    {
     "name": "stdout",
     "output_type": "stream",
     "text": [
      "    default  paid off\n",
      "0  0.553544  0.446456\n",
      "1  0.558953  0.441047\n",
      "2  0.272696  0.727304\n",
      "3  0.506254  0.493746\n",
      "4  0.609952  0.390048\n"
     ]
    }
   ],
   "source": [
    "# 처음 5개의 데이터에 대해 판별\n",
    "\n",
    "# 각 데이터에 대해 'default' 일 확률과 'paid off' 일 확률을 나타냄\n",
    "# predict_proba 함수는 각 클래스에 대한 확률을 나타냄\n",
    "# loan_lda.classes_ 는 'default' 와 'paid off'\n",
    "pred = pd.DataFrame(loan_lda.predict_proba(loan3000[predictors]),\n",
    "                                           columns = loan_lda.classes_)\n",
    "print(pred.head())"
   ]
  },
  {
   "cell_type": "code",
   "execution_count": 51,
   "id": "1334ad01",
   "metadata": {},
   "outputs": [
    {
     "name": "stdout",
     "output_type": "stream",
     "text": [
      "['default' 'paid off']\n"
     ]
    }
   ],
   "source": [
    "print(loan_lda.classes_)"
   ]
  },
  {
   "cell_type": "markdown",
   "id": "24126021",
   "metadata": {},
   "source": [
    "### KNN 알고리즘을 이용한 분류"
   ]
  },
  {
   "cell_type": "code",
   "execution_count": 55,
   "id": "4e2b469a",
   "metadata": {},
   "outputs": [
    {
     "name": "stdout",
     "output_type": "stream",
     "text": [
      "     payment_inc_ratio    dti\n",
      "1              5.46933  21.33\n",
      "2              6.90294   8.97\n",
      "3             11.14800   1.83\n",
      "4              3.72120  10.81\n",
      "5              1.89923  11.34\n",
      "..                 ...    ...\n",
      "196           11.66300  26.09\n",
      "197            2.97641  16.41\n",
      "198            1.96846  19.98\n",
      "199            9.64200  20.17\n",
      "200            7.03924  13.88\n",
      "\n",
      "[200 rows x 2 columns] 1       default\n",
      "2      paid off\n",
      "3      paid off\n",
      "4       default\n",
      "5      paid off\n",
      "         ...   \n",
      "196     default\n",
      "197     default\n",
      "198     default\n",
      "199    paid off\n",
      "200    paid off\n",
      "Name: outcome, Length: 200, dtype: object\n"
     ]
    }
   ],
   "source": [
    "# loan200.csv 파일의 데이터를 읽어서 \n",
    "# payment_inc_ratio 와 dti 를 이용해서 outcome을 예측\n",
    "# 위와 같은 데이터를 사용하지만 분류에 사용하는 속성만 달라짐\n",
    "\n",
    "from sklearn.neighbors import KNeighborsClassifier\n",
    "\n",
    "loan200 = pd.read_csv('./data/loan200.csv')\n",
    "#print(loan200.head())\n",
    "\n",
    "predictors = [ 'payment_inc_ratio', 'dti']\n",
    "outcome = 'outcome'\n",
    "\n",
    "newloan = loan200.loc[0:0, predictors]\n",
    "X = loan200.loc[1:, predictors]\n",
    "y = loan200.loc[1:, outcome]\n",
    "print(X, y)\n"
   ]
  },
  {
   "cell_type": "code",
   "execution_count": 57,
   "id": "02facd9f",
   "metadata": {},
   "outputs": [
    {
     "name": "stdout",
     "output_type": "stream",
     "text": [
      "['paid off']\n"
     ]
    }
   ],
   "source": [
    "# 판단에 사용할 이웃의 갯수를 설정\n",
    "knn = KNeighborsClassifier(n_neighbors = 20)\n",
    "\n",
    "knn.fit(X, y)\n",
    "# 예측 - 'paid off'\n",
    "print(knn.predict(newloan))"
   ]
  },
  {
   "cell_type": "code",
   "execution_count": 59,
   "id": "a6b39dbd",
   "metadata": {},
   "outputs": [
    {
     "name": "stdout",
     "output_type": "stream",
     "text": [
      "[[0.45 0.55]]\n"
     ]
    }
   ],
   "source": [
    "# 확률을 확인 - [[0.45 0.55]]\n",
    "print(knn.predict_proba(newloan))"
   ]
  },
  {
   "cell_type": "markdown",
   "id": "b1d60266",
   "metadata": {},
   "source": [
    "### 표준화를 수행한 경우와의 차이"
   ]
  },
  {
   "cell_type": "code",
   "execution_count": 63,
   "id": "97169eb0",
   "metadata": {},
   "outputs": [
    {
     "name": "stdout",
     "output_type": "stream",
     "text": [
      "   payment_inc_ratio  dti  revol_bal  revol_util\n",
      "0             2.3932  1.0       1687         9.4\n"
     ]
    }
   ],
   "source": [
    "# 데이터 읽어오기\n",
    "\n",
    "loan_data = pd.read_csv('./data/loan_data.csv.gz')\n",
    "loan_data = loan_data.drop(columns = ['Unnamed: 0', 'status'])\n",
    "loan_data['outcome'] = pd.Categorical(loan_data['outcome'],\n",
    "                                     categories = ['paid off', 'default'],\n",
    "                                     ordered = True)\n",
    "\n",
    "predictors = ['payment_inc_ratio', 'dti', 'revol_bal', 'revol_util']\n",
    "outcome = 'outcome'\n",
    "newloan = loan_data.loc[0:0, predictors]\n",
    "# 데이터 확인\n",
    "print(newloan)"
   ]
  },
  {
   "cell_type": "code",
   "execution_count": 67,
   "id": "228e2af2",
   "metadata": {},
   "outputs": [
    {
     "name": "stdout",
     "output_type": "stream",
     "text": [
      "(array([[1.556, 5.64 , 7.139, 8.842, 8.973]]), array([[35535, 33650, 25862, 42952, 43598]], dtype=int64))\n",
      "       payment_inc_ratio   dti  revol_bal  revol_util\n",
      "35536            1.47212  1.46       1686        10.0\n",
      "33651            3.38178  6.37       1688         8.4\n",
      "25863            2.36303  1.39       1691         3.5\n",
      "42953            1.28160  7.14       1684         3.9\n",
      "43599            4.12244  8.98       1684         7.2\n"
     ]
    }
   ],
   "source": [
    "X = loan_data.loc[1:, predictors]\n",
    "y = loan_data.loc[1:, outcome]\n",
    "\n",
    "# 표준화를 하지 않으면 이웃을 찾을 때 특정 특성이 영향을 많이 미치게 됨\n",
    "knn = KNeighborsClassifier(n_neighbors = 5)\n",
    "# 훈련\n",
    "knn.fit(X, y)\n",
    "\n",
    "# 설정한 5개의 이웃에 대한 정보 출력\n",
    "nbrs = knn.kneighbors(newloan)\n",
    "print(nbrs)\n",
    "print(X.iloc[nbrs[1][0],:])\n",
    "# 'revol_bal' 데이터만 4자리 숫자로 편차의 차이가 크게 나타남\n",
    "# 상대적으로 revol_bal 이 가까운 데이터가 선택되게 됨"
   ]
  },
  {
   "cell_type": "code",
   "execution_count": 69,
   "id": "e1217179",
   "metadata": {},
   "outputs": [
    {
     "name": "stdout",
     "output_type": "stream",
     "text": [
      "       payment_inc_ratio   dti  revol_bal  revol_util\n",
      "2080             2.61091  1.03       1218         9.7\n",
      "1438             2.34343  0.51        278         9.9\n",
      "30215            2.71200  1.34       1075         8.5\n",
      "28542            2.39760  0.74       2917         7.4\n",
      "44737            2.34309  1.37        488         7.2\n"
     ]
    }
   ],
   "source": [
    "# 정규화를 수행한 후 이웃 구하기\n",
    "\n",
    "from sklearn import preprocessing\n",
    "\n",
    "# 정규화 적용 - scaler\n",
    "scaler = preprocessing.StandardScaler()\n",
    "scaler.fit(X * 1.0) # 정수를 실수 데이터로 변환\n",
    "X_std = scaler.transform(X * 1.0)\n",
    "newloan_std = scaler.transform(newloan * 1.0)\n",
    "\n",
    "# knn 다시 적용\n",
    "knn = KNeighborsClassifier(n_neighbors = 5)\n",
    "knn.fit(X_std, y)\n",
    "\n",
    "nbrs = knn.kneighbors(newloan_std)\n",
    "print(X.iloc[nbrs[1][0],:])\n",
    "# 스케일링이 적용되어서 4가지 항목의 값들이 모두 변화\n",
    "# 이전에 비해 revol_bal 을 제외한 나머지 속성들의 거리가 가까워짐\n",
    "# 반대로 revol_bal 속성의 거리는 늘어남"
   ]
  },
  {
   "cell_type": "code",
   "execution_count": null,
   "id": "95acdf2f",
   "metadata": {},
   "outputs": [],
   "source": []
  },
  {
   "cell_type": "markdown",
   "id": "867b4720",
   "metadata": {},
   "source": [
    "### Logistic Regrssion - 선형 회귀"
   ]
  },
  {
   "cell_type": "code",
   "execution_count": 72,
   "id": "a9c103a8",
   "metadata": {},
   "outputs": [
    {
     "name": "stdout",
     "output_type": "stream",
     "text": [
      "dict_keys(['data', 'target', 'frame', 'target_names', 'DESCR', 'feature_names', 'filename', 'data_module'])\n"
     ]
    }
   ],
   "source": [
    "# 데이터 가져오기\n",
    "\n",
    "from sklearn import datasets\n",
    "\n",
    "iris = datasets.load_iris()\n",
    "#print(iris.keys())"
   ]
  },
  {
   "cell_type": "code",
   "execution_count": 75,
   "id": "c3fb13f2",
   "metadata": {},
   "outputs": [],
   "source": [
    "# 데이터 생성\n",
    "\n",
    "# feature 생성 - 3번째 이후 속성만\n",
    "# 꽃잎의 너비 속성 1가지에 대해서만 적용\n",
    "X = iris.data[:, 3:]\n",
    "# target - 2(virginica) 인지 여부\n",
    "y = (iris['target'] == 2).astype(np.uint8)\n",
    "\n",
    "#print(X, y)"
   ]
  },
  {
   "cell_type": "code",
   "execution_count": 76,
   "id": "8feee194",
   "metadata": {},
   "outputs": [
    {
     "data": {
      "text/html": [
       "<style>#sk-container-id-1 {color: black;background-color: white;}#sk-container-id-1 pre{padding: 0;}#sk-container-id-1 div.sk-toggleable {background-color: white;}#sk-container-id-1 label.sk-toggleable__label {cursor: pointer;display: block;width: 100%;margin-bottom: 0;padding: 0.3em;box-sizing: border-box;text-align: center;}#sk-container-id-1 label.sk-toggleable__label-arrow:before {content: \"▸\";float: left;margin-right: 0.25em;color: #696969;}#sk-container-id-1 label.sk-toggleable__label-arrow:hover:before {color: black;}#sk-container-id-1 div.sk-estimator:hover label.sk-toggleable__label-arrow:before {color: black;}#sk-container-id-1 div.sk-toggleable__content {max-height: 0;max-width: 0;overflow: hidden;text-align: left;background-color: #f0f8ff;}#sk-container-id-1 div.sk-toggleable__content pre {margin: 0.2em;color: black;border-radius: 0.25em;background-color: #f0f8ff;}#sk-container-id-1 input.sk-toggleable__control:checked~div.sk-toggleable__content {max-height: 200px;max-width: 100%;overflow: auto;}#sk-container-id-1 input.sk-toggleable__control:checked~label.sk-toggleable__label-arrow:before {content: \"▾\";}#sk-container-id-1 div.sk-estimator input.sk-toggleable__control:checked~label.sk-toggleable__label {background-color: #d4ebff;}#sk-container-id-1 div.sk-label input.sk-toggleable__control:checked~label.sk-toggleable__label {background-color: #d4ebff;}#sk-container-id-1 input.sk-hidden--visually {border: 0;clip: rect(1px 1px 1px 1px);clip: rect(1px, 1px, 1px, 1px);height: 1px;margin: -1px;overflow: hidden;padding: 0;position: absolute;width: 1px;}#sk-container-id-1 div.sk-estimator {font-family: monospace;background-color: #f0f8ff;border: 1px dotted black;border-radius: 0.25em;box-sizing: border-box;margin-bottom: 0.5em;}#sk-container-id-1 div.sk-estimator:hover {background-color: #d4ebff;}#sk-container-id-1 div.sk-parallel-item::after {content: \"\";width: 100%;border-bottom: 1px solid gray;flex-grow: 1;}#sk-container-id-1 div.sk-label:hover label.sk-toggleable__label {background-color: #d4ebff;}#sk-container-id-1 div.sk-serial::before {content: \"\";position: absolute;border-left: 1px solid gray;box-sizing: border-box;top: 0;bottom: 0;left: 50%;z-index: 0;}#sk-container-id-1 div.sk-serial {display: flex;flex-direction: column;align-items: center;background-color: white;padding-right: 0.2em;padding-left: 0.2em;position: relative;}#sk-container-id-1 div.sk-item {position: relative;z-index: 1;}#sk-container-id-1 div.sk-parallel {display: flex;align-items: stretch;justify-content: center;background-color: white;position: relative;}#sk-container-id-1 div.sk-item::before, #sk-container-id-1 div.sk-parallel-item::before {content: \"\";position: absolute;border-left: 1px solid gray;box-sizing: border-box;top: 0;bottom: 0;left: 50%;z-index: -1;}#sk-container-id-1 div.sk-parallel-item {display: flex;flex-direction: column;z-index: 1;position: relative;background-color: white;}#sk-container-id-1 div.sk-parallel-item:first-child::after {align-self: flex-end;width: 50%;}#sk-container-id-1 div.sk-parallel-item:last-child::after {align-self: flex-start;width: 50%;}#sk-container-id-1 div.sk-parallel-item:only-child::after {width: 0;}#sk-container-id-1 div.sk-dashed-wrapped {border: 1px dashed gray;margin: 0 0.4em 0.5em 0.4em;box-sizing: border-box;padding-bottom: 0.4em;background-color: white;}#sk-container-id-1 div.sk-label label {font-family: monospace;font-weight: bold;display: inline-block;line-height: 1.2em;}#sk-container-id-1 div.sk-label-container {text-align: center;}#sk-container-id-1 div.sk-container {/* jupyter's `normalize.less` sets `[hidden] { display: none; }` but bootstrap.min.css set `[hidden] { display: none !important; }` so we also need the `!important` here to be able to override the default hidden behavior on the sphinx rendered scikit-learn.org. See: https://github.com/scikit-learn/scikit-learn/issues/21755 */display: inline-block !important;position: relative;}#sk-container-id-1 div.sk-text-repr-fallback {display: none;}</style><div id=\"sk-container-id-1\" class=\"sk-top-container\"><div class=\"sk-text-repr-fallback\"><pre>LogisticRegression(random_state=21)</pre><b>In a Jupyter environment, please rerun this cell to show the HTML representation or trust the notebook. <br />On GitHub, the HTML representation is unable to render, please try loading this page with nbviewer.org.</b></div><div class=\"sk-container\" hidden><div class=\"sk-item\"><div class=\"sk-estimator sk-toggleable\"><input class=\"sk-toggleable__control sk-hidden--visually\" id=\"sk-estimator-id-1\" type=\"checkbox\" checked><label for=\"sk-estimator-id-1\" class=\"sk-toggleable__label sk-toggleable__label-arrow\">LogisticRegression</label><div class=\"sk-toggleable__content\"><pre>LogisticRegression(random_state=21)</pre></div></div></div></div></div>"
      ],
      "text/plain": [
       "LogisticRegression(random_state=21)"
      ]
     },
     "execution_count": 76,
     "metadata": {},
     "output_type": "execute_result"
    }
   ],
   "source": [
    "# 모델 생성하기\n",
    "\n",
    "from sklearn.linear_model import LogisticRegression\n",
    "\n",
    "# 객체(모델) 생성\n",
    "log_reg = LogisticRegression(solver = 'lbfgs', random_state = 21)\n",
    "\n",
    "# 모델 훈련\n",
    "log_reg.fit(X, y)"
   ]
  },
  {
   "cell_type": "code",
   "execution_count": 86,
   "id": "a7ea3974",
   "metadata": {},
   "outputs": [
    {
     "name": "stdout",
     "output_type": "stream",
     "text": [
      "[1.661]\n"
     ]
    }
   ],
   "source": [
    "# 샘플 데이터 1000개를 만들어서 예측\n",
    "# 0 ~ 2 사이를 1000개로 분할하고 차원을 reshape\n",
    "X_new = np.linspace(0, 3, 1000).reshape(-1, 1)\n",
    "\n",
    "# 각 샘플의 확률을 계산\n",
    "y_proba = log_reg.predict_proba(X_new)\n",
    "\n",
    "# 결정 경계 점수 - 확률이 0.5를 넘는 첫번째 지점\n",
    "# 속성을 하나만 사용해서 분류\n",
    "decision_bound = X_new[y_proba[:, 1] >= 0.5][0]\n",
    "print(decision_bound) # 1.661\n",
    "# 꽃잎의 너비가 1.661 보다 크다면 verginica 로 분류\n",
    "\n",
    "# 여러 속성에 대해 분류를 해보고 싶다면\n",
    "# 처음에 데이터를 생성할 때 X, y 에 여러 속성을 부여하면 됨"
   ]
  },
  {
   "cell_type": "code",
   "execution_count": 84,
   "id": "1d4c0f52",
   "metadata": {},
   "outputs": [
    {
     "name": "stdout",
     "output_type": "stream",
     "text": [
      "[1 1 0 0]\n"
     ]
    }
   ],
   "source": [
    "# 예측\n",
    "print(log_reg.predict([[1.7], [1.67], [1.63], [1.4]])) # 1 1 0 0"
   ]
  },
  {
   "cell_type": "code",
   "execution_count": null,
   "id": "b1242220",
   "metadata": {},
   "outputs": [],
   "source": []
  }
 ],
 "metadata": {
  "kernelspec": {
   "display_name": "Python 3 (ipykernel)",
   "language": "python",
   "name": "python3"
  },
  "language_info": {
   "codemirror_mode": {
    "name": "ipython",
    "version": 3
   },
   "file_extension": ".py",
   "mimetype": "text/x-python",
   "name": "python",
   "nbconvert_exporter": "python",
   "pygments_lexer": "ipython3",
   "version": "3.10.9"
  }
 },
 "nbformat": 4,
 "nbformat_minor": 5
}
